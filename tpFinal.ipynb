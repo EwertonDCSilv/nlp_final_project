{
 "cells": [
  {
   "cell_type": "markdown",
   "metadata": {
    "id": "TrNuMxvau3Py"
   },
   "source": [
    "# <center>Universidade Federal de Minas Gerais</center>\n",
    "## <center>Departamento de Ciência da Computação</center>\n",
    "### <center>Projeto final: Predizendo produtos por meio de reclamações textuais</center>\n",
    "<center>Ewerton Silva Santos.</center>\n",
    "<center>Matricula: 2016058140.</center>\n",
    "<center>ewerton_dc@hotmail.com</center>\n",
    "<center>25 de Março de 2021</center>"
   ]
  },
  {
   "cell_type": "markdown",
   "metadata": {
    "id": "3wHSJEn1vJwI"
   },
   "source": [
    "**Resumo**: objetivo é criar um modelo Sequence-to-Sequence usando uma rede LSTM, o qual que preveja produtos financeiros por meio de uma reclamação textuais de consumidores ao \"Departamento de Proteção Financeira do Consumidor\" dos EUA. O corpus está disponível em https://catalog.data.gov/dataset/consumer-complaint-database. \n",
    "\n",
    "**Sobre o Dataset**: \"The Consumer Complaint Database is a collection of complaints about consumer financial products and services that we sent to companies for response. Complaints are published after the company responds, confirming a commercial relationship with the consumer, or after 15 days, whichever comes first. Complaints referred to other regulators, such as complaints about depository institutions with less than $10 billion in assets, are not published in the Consumer Complaint Database. The database generally updates daily.\" [SIC]\n",
    "\n",
    "**Baixar do GitHub**: https://github.com/EwertonDCSilv/nlp_final_project\n",
    "\n",
    "**Executar no colab**: https://drive.google.com/drive/folders/1necRI2e-UNhp30eUqaEyp5ColWeZKN02?usp=sharing\n"
   ]
  },
  {
   "cell_type": "markdown",
   "metadata": {
    "id": "dUIqEFY7sLnL"
   },
   "source": [
    "**Link do vídeo no Drive** https://drive.google.com/drive/folders/18sVyH1lXZ9NvnQ2qMadnqUwqN-9EU92M?usp=sharing\n",
    "\n",
    "**Link do vídeo no YouTube**  https://youtu.be/ae-_LakbDsE"
   ]
  },
  {
   "cell_type": "markdown",
   "metadata": {
    "id": "jxZpyjj3AsCt"
   },
   "source": [
    "\n",
    "------"
   ]
  },
  {
   "cell_type": "markdown",
   "metadata": {
    "id": "O4YqDeTtw6ZN"
   },
   "source": [
    "# 1 - Introdução\n",
    "<div style=\"text-align: justify!important\"> \n",
    "<p>O processo de classificação automática de texto pode ser útil para diversos tipos de aplicação, é uma atividade que se tornou extremamente importante para empresas e usuários comuns. Este tipo de classificação pode ser utilizado para tarefas de analise de sentimentos, modelagem de tópicos, classificação de spam, verificação de notícias falsas, transcrição de áudio em texto, dentre tantas aplicações. Neste trabalho iremos tratar da predição de produtos(categórica) por meio de reclamações textuais de consumidores ao \"Departamento de Proteção Financeira do Consumidor\" dos EUA, utilizando-se da vetorização dos elementos textuais e suas características, para assim predizer a classe do produto financeiro em questão (Bank account,Consumer Loan, Credit card, etc). O modelo escolhido para realizar esta tarefa foi Rede Neural Recorrente (RNN) usando a arquitetura Long Short Term Memory (LSTM), sendo utilizado o dataset consumer-complaint-database, tanto para traino quanto para teste.</p>\n",
    "\n",
    "<p>O modelo LSTM foi escolhido tento em vista sua alta capacidade de predição, fato devido principalmente a sua estrutura que permite a memorização do texto e o seu respectivo esquecimento. Além disso, o modelo permite modelar de forma simples a dependência entre os termos</p>\n",
    "\n",
    "<p>Dada a o tratamento dos dados, a implementação do modelo, serão avaliadas, melhores escolhas de parâmetros, precisão da classificação dos produtos no geral e em especifico.</p>\n",
    "</div>"
   ]
  },
  {
   "cell_type": "code",
   "execution_count": 2,
   "metadata": {
    "id": "MuwB-zsufMHb"
   },
   "outputs": [
    {
     "name": "stderr",
     "output_type": "stream",
     "text": [
      "Using TensorFlow backend.\n"
     ]
    }
   ],
   "source": [
    "# General\n",
    "import os\n",
    "import re\n",
    "import nltk\n",
    "import numpy as np \n",
    "import pandas as pd\n",
    "import seaborn as sns\n",
    "import matplotlib.pyplot as plt\n",
    "import itertools\n",
    "\n",
    "# Scikit\n",
    "from sklearn.model_selection import train_test_split\n",
    "from sklearn.metrics import confusion_matrix, classification_report\n",
    "\n",
    "# Keras\n",
    "from keras.models import Sequential\n",
    "from keras.utils import plot_model\n",
    "from keras.callbacks import EarlyStopping\n",
    "from keras.preprocessing.text import Tokenizer\n",
    "from keras.preprocessing.sequence import pad_sequences\n",
    "from keras.utils.np_utils import to_categorical\n",
    "from keras.layers import Dropout, Dense, Embedding, LSTM, SpatialDropout1D\n",
    "from IPython.display import Image \n",
    "from bs4 import BeautifulSoup\n",
    "from nltk.corpus import stopwords\n",
    "from nltk import word_tokenize\n",
    "\n",
    "# TensorFlow\n",
    "from tensorflow import keras\n",
    "\n",
    "# Graficos\n",
    "%matplotlib inline\n",
    "plt.rcParams['figure.figsize']  = (10, 8)\n",
    "plt.rcParams['axes.labelsize']  = 12\n",
    "plt.rcParams['axes.titlesize']  = 16\n",
    "plt.rcParams['legend.fontsize'] = 12\n",
    "plt.rcParams['xtick.labelsize'] = 12\n",
    "plt.rcParams['ytick.labelsize'] = 12"
   ]
  },
  {
   "cell_type": "code",
   "execution_count": 3,
   "metadata": {
    "id": "8sHTHD31VoCa"
   },
   "outputs": [],
   "source": [
    "plt.ion()\n",
    "plt.style.use('seaborn-colorblind')\n",
    "plt.rcParams['figure.figsize']  = (12, 10)"
   ]
  },
  {
   "cell_type": "markdown",
   "metadata": {
    "id": "-u8IlsyN4aI0"
   },
   "source": [
    "### Parametros gerais e configurações"
   ]
  },
  {
   "cell_type": "code",
   "execution_count": 10,
   "metadata": {
    "colab": {
     "base_uri": "https://localhost:8080/",
     "height": 54
    },
    "id": "fvaL4YD2fsVB",
    "outputId": "095f1e54-c586-4d21-e1c8-d6a47768b754"
   },
   "outputs": [
    {
     "name": "stderr",
     "output_type": "stream",
     "text": [
      "[nltk_data] Downloading package stopwords to\n",
      "[nltk_data]     C:\\Users\\ewert\\AppData\\Roaming\\nltk_data...\n",
      "[nltk_data]   Package stopwords is already up-to-date!\n"
     ]
    }
   ],
   "source": [
    "\"\"\"\n",
    "  Definições gerais\n",
    "\"\"\"\n",
    "# Caminho para pasta com dados\n",
    "homePath = \".\"\n",
    "\n",
    "# Baixnado conjunto de stopwords\n",
    "nltk.download(\"stopwords\")\n",
    "\n",
    "#Expressões regulares para tratamento de texto\n",
    "caracterToSpace = re.compile('[/(){}\\[\\]\\|@,;]') \n",
    "especialCacracters = re.compile('[^0-9a-z #+_]')\n",
    "stopWords = set(stopwords.words('english'))\n",
    "\n",
    "# Comprimento do texto\n",
    "dimensionEmbed = 100 # Dimensão do embedding\n",
    "maxWords = 50000     # Numero de palavras mais frequentes a serem utilizadas\n",
    "maxSequence = 250    # Comprimento maximo da sequencia\n",
    "\n",
    "# Parametros do modelo\n",
    "epochs = 5\n",
    "batch_size = 64\n",
    "\n",
    "# Flag de treinamento\n",
    "bool_train = False"
   ]
  },
  {
   "cell_type": "markdown",
   "metadata": {
    "id": "kqcbPC1k5l9c"
   },
   "source": [
    "### Obtendo dataset\n",
    "Dataset contendo reclamação textuais de consumidores ao \"Departamento de Proteção Financeira do Consumidor\" dos EUA. O dataset\n",
    " está disponível em https://catalog.data.gov/dataset/consumer-complaint-database."
   ]
  },
  {
   "cell_type": "code",
   "execution_count": 7,
   "metadata": {
    "colab": {
     "base_uri": "https://localhost:8080/",
     "height": 527
    },
    "id": "Y7JC4IjrfMI3",
    "outputId": "c8ceebaf-efc6-49c1-f0ed-2af8f0edf08e"
   },
   "outputs": [
    {
     "name": "stdout",
     "output_type": "stream",
     "text": [
      "(903983, 18)\n"
     ]
    },
    {
     "data": {
      "text/html": [
       "<div>\n",
       "<style scoped>\n",
       "    .dataframe tbody tr th:only-of-type {\n",
       "        vertical-align: middle;\n",
       "    }\n",
       "\n",
       "    .dataframe tbody tr th {\n",
       "        vertical-align: top;\n",
       "    }\n",
       "\n",
       "    .dataframe thead th {\n",
       "        text-align: right;\n",
       "    }\n",
       "</style>\n",
       "<table border=\"1\" class=\"dataframe\">\n",
       "  <thead>\n",
       "    <tr style=\"text-align: right;\">\n",
       "      <th></th>\n",
       "      <th>Date received</th>\n",
       "      <th>Product</th>\n",
       "      <th>Sub-product</th>\n",
       "      <th>Issue</th>\n",
       "      <th>Sub-issue</th>\n",
       "      <th>Consumer complaint narrative</th>\n",
       "      <th>Company public response</th>\n",
       "      <th>Company</th>\n",
       "      <th>State</th>\n",
       "      <th>ZIP code</th>\n",
       "      <th>Tags</th>\n",
       "      <th>Consumer consent provided?</th>\n",
       "      <th>Submitted via</th>\n",
       "      <th>Date sent to company</th>\n",
       "      <th>Company response to consumer</th>\n",
       "      <th>Timely response?</th>\n",
       "      <th>Consumer disputed?</th>\n",
       "      <th>Complaint ID</th>\n",
       "    </tr>\n",
       "  </thead>\n",
       "  <tbody>\n",
       "    <tr>\n",
       "      <th>0</th>\n",
       "      <td>3/12/2014</td>\n",
       "      <td>Mortgage</td>\n",
       "      <td>Other mortgage</td>\n",
       "      <td>Loan modification,collection,foreclosure</td>\n",
       "      <td>NaN</td>\n",
       "      <td>NaN</td>\n",
       "      <td>NaN</td>\n",
       "      <td>M&amp;T BANK CORPORATION</td>\n",
       "      <td>MI</td>\n",
       "      <td>48382</td>\n",
       "      <td>NaN</td>\n",
       "      <td>NaN</td>\n",
       "      <td>Referral</td>\n",
       "      <td>3/17/2014</td>\n",
       "      <td>Closed with explanation</td>\n",
       "      <td>Yes</td>\n",
       "      <td>No</td>\n",
       "      <td>759217</td>\n",
       "    </tr>\n",
       "    <tr>\n",
       "      <th>1</th>\n",
       "      <td>10/1/2016</td>\n",
       "      <td>Credit reporting</td>\n",
       "      <td>NaN</td>\n",
       "      <td>Incorrect information on credit report</td>\n",
       "      <td>Account status</td>\n",
       "      <td>I have outdated information on my credit repor...</td>\n",
       "      <td>Company has responded to the consumer and the ...</td>\n",
       "      <td>TRANSUNION INTERMEDIATE HOLDINGS, INC.</td>\n",
       "      <td>AL</td>\n",
       "      <td>352XX</td>\n",
       "      <td>NaN</td>\n",
       "      <td>Consent provided</td>\n",
       "      <td>Web</td>\n",
       "      <td>10/5/2016</td>\n",
       "      <td>Closed with explanation</td>\n",
       "      <td>Yes</td>\n",
       "      <td>No</td>\n",
       "      <td>2141773</td>\n",
       "    </tr>\n",
       "    <tr>\n",
       "      <th>2</th>\n",
       "      <td>10/17/2016</td>\n",
       "      <td>Consumer Loan</td>\n",
       "      <td>Vehicle loan</td>\n",
       "      <td>Managing the loan or lease</td>\n",
       "      <td>NaN</td>\n",
       "      <td>I purchased a new car on XXXX XXXX. The car de...</td>\n",
       "      <td>NaN</td>\n",
       "      <td>CITIZENS FINANCIAL GROUP, INC.</td>\n",
       "      <td>PA</td>\n",
       "      <td>177XX</td>\n",
       "      <td>Older American</td>\n",
       "      <td>Consent provided</td>\n",
       "      <td>Web</td>\n",
       "      <td>10/20/2016</td>\n",
       "      <td>Closed with explanation</td>\n",
       "      <td>Yes</td>\n",
       "      <td>No</td>\n",
       "      <td>2163100</td>\n",
       "    </tr>\n",
       "    <tr>\n",
       "      <th>3</th>\n",
       "      <td>6/8/2014</td>\n",
       "      <td>Credit card</td>\n",
       "      <td>NaN</td>\n",
       "      <td>Bankruptcy</td>\n",
       "      <td>NaN</td>\n",
       "      <td>NaN</td>\n",
       "      <td>NaN</td>\n",
       "      <td>AMERICAN EXPRESS COMPANY</td>\n",
       "      <td>ID</td>\n",
       "      <td>83854</td>\n",
       "      <td>Older American</td>\n",
       "      <td>NaN</td>\n",
       "      <td>Web</td>\n",
       "      <td>6/10/2014</td>\n",
       "      <td>Closed with explanation</td>\n",
       "      <td>Yes</td>\n",
       "      <td>Yes</td>\n",
       "      <td>885638</td>\n",
       "    </tr>\n",
       "    <tr>\n",
       "      <th>4</th>\n",
       "      <td>9/13/2014</td>\n",
       "      <td>Debt collection</td>\n",
       "      <td>Credit card</td>\n",
       "      <td>Communication tactics</td>\n",
       "      <td>Frequent or repeated calls</td>\n",
       "      <td>NaN</td>\n",
       "      <td>NaN</td>\n",
       "      <td>CITIBANK, N.A.</td>\n",
       "      <td>VA</td>\n",
       "      <td>23233</td>\n",
       "      <td>NaN</td>\n",
       "      <td>NaN</td>\n",
       "      <td>Web</td>\n",
       "      <td>9/13/2014</td>\n",
       "      <td>Closed with explanation</td>\n",
       "      <td>Yes</td>\n",
       "      <td>Yes</td>\n",
       "      <td>1027760</td>\n",
       "    </tr>\n",
       "  </tbody>\n",
       "</table>\n",
       "</div>"
      ],
      "text/plain": [
       "  Date received           Product     Sub-product  \\\n",
       "0     3/12/2014          Mortgage  Other mortgage   \n",
       "1     10/1/2016  Credit reporting             NaN   \n",
       "2    10/17/2016     Consumer Loan    Vehicle loan   \n",
       "3      6/8/2014       Credit card             NaN   \n",
       "4     9/13/2014   Debt collection     Credit card   \n",
       "\n",
       "                                      Issue                   Sub-issue  \\\n",
       "0  Loan modification,collection,foreclosure                         NaN   \n",
       "1    Incorrect information on credit report              Account status   \n",
       "2                Managing the loan or lease                         NaN   \n",
       "3                                Bankruptcy                         NaN   \n",
       "4                     Communication tactics  Frequent or repeated calls   \n",
       "\n",
       "                        Consumer complaint narrative  \\\n",
       "0                                                NaN   \n",
       "1  I have outdated information on my credit repor...   \n",
       "2  I purchased a new car on XXXX XXXX. The car de...   \n",
       "3                                                NaN   \n",
       "4                                                NaN   \n",
       "\n",
       "                             Company public response  \\\n",
       "0                                                NaN   \n",
       "1  Company has responded to the consumer and the ...   \n",
       "2                                                NaN   \n",
       "3                                                NaN   \n",
       "4                                                NaN   \n",
       "\n",
       "                                  Company State ZIP code            Tags  \\\n",
       "0                    M&T BANK CORPORATION    MI    48382             NaN   \n",
       "1  TRANSUNION INTERMEDIATE HOLDINGS, INC.    AL    352XX             NaN   \n",
       "2          CITIZENS FINANCIAL GROUP, INC.    PA    177XX  Older American   \n",
       "3                AMERICAN EXPRESS COMPANY    ID    83854  Older American   \n",
       "4                          CITIBANK, N.A.    VA    23233             NaN   \n",
       "\n",
       "  Consumer consent provided? Submitted via Date sent to company  \\\n",
       "0                        NaN      Referral            3/17/2014   \n",
       "1           Consent provided           Web            10/5/2016   \n",
       "2           Consent provided           Web           10/20/2016   \n",
       "3                        NaN           Web            6/10/2014   \n",
       "4                        NaN           Web            9/13/2014   \n",
       "\n",
       "  Company response to consumer Timely response? Consumer disputed?  \\\n",
       "0      Closed with explanation              Yes                 No   \n",
       "1      Closed with explanation              Yes                 No   \n",
       "2      Closed with explanation              Yes                 No   \n",
       "3      Closed with explanation              Yes                Yes   \n",
       "4      Closed with explanation              Yes                Yes   \n",
       "\n",
       "   Complaint ID  \n",
       "0        759217  \n",
       "1       2141773  \n",
       "2       2163100  \n",
       "3        885638  \n",
       "4       1027760  "
      ]
     },
     "execution_count": 7,
     "metadata": {},
     "output_type": "execute_result"
    }
   ],
   "source": [
    "# Dataset origim https://www.kaggle.com/sebastienverpile/consumercomplaintsdata/home\n",
    "df = pd.read_csv(os.path.join(homePath,'data/Consumer_Complaints.zip'))\n",
    "\n",
    "# Shape do dataset\n",
    "print(df.shape)\n",
    "\n",
    "# Exemplo com dados brutos\n",
    "df.head()"
   ]
  },
  {
   "cell_type": "markdown",
   "metadata": {
    "id": "1VDaQ7A25IIH"
   },
   "source": [
    "### Recortando dataset\n",
    "Para realizar a tarefa de predição serão utilizadas apenas as colunas \"Product\"(referente ao tipo de produto) e \"Consumer complaint narrative\"(referente a reclamação textual). "
   ]
  },
  {
   "cell_type": "code",
   "execution_count": 9,
   "metadata": {
    "colab": {
     "base_uri": "https://localhost:8080/",
     "height": 216
    },
    "id": "cv8DPF1eq4se",
    "outputId": "c93d6d01-5c35-4f64-a848-8963798792fb"
   },
   "outputs": [
    {
     "name": "stdout",
     "output_type": "stream",
     "text": [
      "(199970, 2)\n"
     ]
    },
    {
     "data": {
      "text/html": [
       "<div>\n",
       "<style scoped>\n",
       "    .dataframe tbody tr th:only-of-type {\n",
       "        vertical-align: middle;\n",
       "    }\n",
       "\n",
       "    .dataframe tbody tr th {\n",
       "        vertical-align: top;\n",
       "    }\n",
       "\n",
       "    .dataframe thead th {\n",
       "        text-align: right;\n",
       "    }\n",
       "</style>\n",
       "<table border=\"1\" class=\"dataframe\">\n",
       "  <thead>\n",
       "    <tr style=\"text-align: right;\">\n",
       "      <th></th>\n",
       "      <th>Product</th>\n",
       "      <th>Consumer complaint narrative</th>\n",
       "    </tr>\n",
       "  </thead>\n",
       "  <tbody>\n",
       "    <tr>\n",
       "      <th>1</th>\n",
       "      <td>Credit reporting</td>\n",
       "      <td>I have outdated information on my credit repor...</td>\n",
       "    </tr>\n",
       "    <tr>\n",
       "      <th>2</th>\n",
       "      <td>Consumer Loan</td>\n",
       "      <td>I purchased a new car on XXXX XXXX. The car de...</td>\n",
       "    </tr>\n",
       "    <tr>\n",
       "      <th>7</th>\n",
       "      <td>Credit reporting</td>\n",
       "      <td>An account on my credit report has a mistaken ...</td>\n",
       "    </tr>\n",
       "    <tr>\n",
       "      <th>12</th>\n",
       "      <td>Debt collection</td>\n",
       "      <td>This company refuses to provide me verificatio...</td>\n",
       "    </tr>\n",
       "    <tr>\n",
       "      <th>16</th>\n",
       "      <td>Debt collection</td>\n",
       "      <td>This complaint is in regards to Square Two Fin...</td>\n",
       "    </tr>\n",
       "  </tbody>\n",
       "</table>\n",
       "</div>"
      ],
      "text/plain": [
       "             Product                       Consumer complaint narrative\n",
       "1   Credit reporting  I have outdated information on my credit repor...\n",
       "2      Consumer Loan  I purchased a new car on XXXX XXXX. The car de...\n",
       "7   Credit reporting  An account on my credit report has a mistaken ...\n",
       "12   Debt collection  This company refuses to provide me verificatio...\n",
       "16   Debt collection  This complaint is in regards to Square Two Fin..."
      ]
     },
     "execution_count": 9,
     "metadata": {},
     "output_type": "execute_result"
    }
   ],
   "source": [
    "# Recortando colunas do dataframe\n",
    "cutColumns = [\"Product\",\"Consumer complaint narrative\"]\n",
    "df = df[cutColumns]\n",
    "\n",
    "# Removendo linhas com entradas nulas\n",
    "df = df.dropna()\n",
    "\n",
    "# Shape do dataset\n",
    "print(df.shape)\n",
    "\n",
    "df.head()"
   ]
  },
  {
   "cell_type": "markdown",
   "metadata": {
    "id": "n1yl7JBP6C_Z"
   },
   "source": [
    "### Número de reclamações por categoria de produto"
   ]
  },
  {
   "cell_type": "code",
   "execution_count": 7,
   "metadata": {
    "colab": {
     "base_uri": "https://localhost:8080/",
     "height": 588
    },
    "id": "O6SZZul7fMJH",
    "outputId": "d47c4dd1-df32-4430-bbe2-b18d1b3eccad"
   },
   "outputs": [
    {
     "data": {
      "text/html": [
       "<div>\n",
       "<style scoped>\n",
       "    .dataframe tbody tr th:only-of-type {\n",
       "        vertical-align: middle;\n",
       "    }\n",
       "\n",
       "    .dataframe tbody tr th {\n",
       "        vertical-align: top;\n",
       "    }\n",
       "\n",
       "    .dataframe thead th {\n",
       "        text-align: right;\n",
       "    }\n",
       "</style>\n",
       "<table border=\"1\" class=\"dataframe\">\n",
       "  <thead>\n",
       "    <tr style=\"text-align: right;\">\n",
       "      <th></th>\n",
       "      <th>Product</th>\n",
       "      <th>Consumer complaint narrative</th>\n",
       "    </tr>\n",
       "  </thead>\n",
       "  <tbody>\n",
       "    <tr>\n",
       "      <th>0</th>\n",
       "      <td>Bank account or service</td>\n",
       "      <td>14888</td>\n",
       "    </tr>\n",
       "    <tr>\n",
       "      <th>1</th>\n",
       "      <td>Checking or savings account</td>\n",
       "      <td>2142</td>\n",
       "    </tr>\n",
       "    <tr>\n",
       "      <th>2</th>\n",
       "      <td>Consumer Loan</td>\n",
       "      <td>9474</td>\n",
       "    </tr>\n",
       "    <tr>\n",
       "      <th>3</th>\n",
       "      <td>Credit card</td>\n",
       "      <td>18842</td>\n",
       "    </tr>\n",
       "    <tr>\n",
       "      <th>4</th>\n",
       "      <td>Credit card or prepaid card</td>\n",
       "      <td>3355</td>\n",
       "    </tr>\n",
       "    <tr>\n",
       "      <th>5</th>\n",
       "      <td>Credit reporting</td>\n",
       "      <td>31592</td>\n",
       "    </tr>\n",
       "    <tr>\n",
       "      <th>6</th>\n",
       "      <td>Credit reporting, credit repair services, or o...</td>\n",
       "      <td>14671</td>\n",
       "    </tr>\n",
       "    <tr>\n",
       "      <th>7</th>\n",
       "      <td>Debt collection</td>\n",
       "      <td>47915</td>\n",
       "    </tr>\n",
       "    <tr>\n",
       "      <th>8</th>\n",
       "      <td>Money transfer, virtual currency, or money ser...</td>\n",
       "      <td>684</td>\n",
       "    </tr>\n",
       "    <tr>\n",
       "      <th>9</th>\n",
       "      <td>Money transfers</td>\n",
       "      <td>1496</td>\n",
       "    </tr>\n",
       "    <tr>\n",
       "      <th>10</th>\n",
       "      <td>Mortgage</td>\n",
       "      <td>36582</td>\n",
       "    </tr>\n",
       "    <tr>\n",
       "      <th>11</th>\n",
       "      <td>Other financial service</td>\n",
       "      <td>292</td>\n",
       "    </tr>\n",
       "    <tr>\n",
       "      <th>12</th>\n",
       "      <td>Payday loan</td>\n",
       "      <td>1748</td>\n",
       "    </tr>\n",
       "    <tr>\n",
       "      <th>13</th>\n",
       "      <td>Payday loan, title loan, or personal loan</td>\n",
       "      <td>697</td>\n",
       "    </tr>\n",
       "    <tr>\n",
       "      <th>14</th>\n",
       "      <td>Prepaid card</td>\n",
       "      <td>1451</td>\n",
       "    </tr>\n",
       "    <tr>\n",
       "      <th>15</th>\n",
       "      <td>Student loan</td>\n",
       "      <td>13304</td>\n",
       "    </tr>\n",
       "    <tr>\n",
       "      <th>16</th>\n",
       "      <td>Vehicle loan or lease</td>\n",
       "      <td>821</td>\n",
       "    </tr>\n",
       "    <tr>\n",
       "      <th>17</th>\n",
       "      <td>Virtual currency</td>\n",
       "      <td>16</td>\n",
       "    </tr>\n",
       "  </tbody>\n",
       "</table>\n",
       "</div>"
      ],
      "text/plain": [
       "                                              Product  Consumer complaint narrative\n",
       "0                             Bank account or service                         14888\n",
       "1                         Checking or savings account                          2142\n",
       "2                                       Consumer Loan                          9474\n",
       "3                                         Credit card                         18842\n",
       "4                         Credit card or prepaid card                          3355\n",
       "5                                    Credit reporting                         31592\n",
       "6   Credit reporting, credit repair services, or o...                         14671\n",
       "7                                     Debt collection                         47915\n",
       "8   Money transfer, virtual currency, or money ser...                           684\n",
       "9                                     Money transfers                          1496\n",
       "10                                           Mortgage                         36582\n",
       "11                            Other financial service                           292\n",
       "12                                        Payday loan                          1748\n",
       "13          Payday loan, title loan, or personal loan                           697\n",
       "14                                       Prepaid card                          1451\n",
       "15                                       Student loan                         13304\n",
       "16                              Vehicle loan or lease                           821\n",
       "17                                   Virtual currency                            16"
      ]
     },
     "execution_count": 7,
     "metadata": {
      "tags": []
     },
     "output_type": "execute_result"
    }
   ],
   "source": [
    "# Ocorrencias por tipo de produto\n",
    "df.groupby(\"Product\",as_index=None).count()"
   ]
  },
  {
   "cell_type": "markdown",
   "metadata": {
    "id": "YKfNh5P26Q9u"
   },
   "source": [
    "### Simplificando categorias de produtos\n",
    "Algumas categorias são muito similares, para que a predição não seja comprometida, algumas destas foram aglutinadas em uma categoria mais geral."
   ]
  },
  {
   "cell_type": "code",
   "execution_count": 8,
   "metadata": {
    "id": "OjTKeZrifMJJ"
   },
   "outputs": [],
   "source": [
    "# Simplificando os grupos de produtos\n",
    "df.loc[df['Product'] == 'Credit reporting', 'Product'] = 'Credit reporting, credit repair services, or other personal consumer reports'\n",
    "df.loc[df['Product'] == 'Credit card', 'Product'] = 'Credit card or prepaid card'\n",
    "df.loc[df['Product'] == 'Payday loan', 'Product'] = 'Payday loan, title loan, or personal loan'\n",
    "df.loc[df['Product'] == 'Virtual currency', 'Product'] = 'Money transfer, virtual currency, or money service'\n",
    "df = df[df.Product != 'Other financial service']\n",
    "df = df.reset_index(drop=True)"
   ]
  },
  {
   "cell_type": "markdown",
   "metadata": {
    "id": "YSZYXsunw7sm"
   },
   "source": [
    "# 2 - Implementação\n",
    "O modelo é treinado e validado utilizando apenas parte dos atributos do dataset, neste caso apenas as reclamações textuais(string) a categoria do produto (variável categórica). O dataset apresenta originalmente **18 categorias**, como algumas são extremamente similares são aglutinadas no intuito de reduzir a perda de acurácia do modelo. Outro tratamento realizado é a remoção de linhas nulas, havendo originalmente **900 mil linhas**, que se reduzem a **200 mil**. Em seguida o texto livre é sanitizado, removendo caracteres especiais e stop words, para adiante ser separado em tokens, que em seguida são convertidos para um embedding vetorial biblioteca ***Keras***, a qual também é utilizada para criação do modelo de predição. Por fim, os dados são separados em 30% para treino e 70% para teste, havendo uma ordenação aleatória das entradas."
   ]
  },
  {
   "cell_type": "markdown",
   "metadata": {
    "id": "ZqzAJmKkuRDp"
   },
   "source": [
    "### Tratando dados: removendo caracteres especiais e stop words"
   ]
  },
  {
   "cell_type": "code",
   "execution_count": 9,
   "metadata": {
    "id": "brTud-bXfMJe"
   },
   "outputs": [],
   "source": [
    "def sanitazeText(sentence):\n",
    "    sentence = sentence.lower()                                                     # Tudo minusculo\n",
    "    sentence = sentence.strip()                                                     # Remove espacos nas extremidades das strings\n",
    "    sentence = caracterToSpace.sub(' ', sentence)                                   # Remove carcteres por espaco\n",
    "    sentence = especialCacracters.sub('', sentence)                                 # Remove caracteres \n",
    "    sentence = sentence.replace('x', '')                                            # Remove X caracteres que ocultam dados pessoais \n",
    "    sentence = ' '.join(word for word in sentence.split() if word not in stopWords) # Removendo stop words\n",
    "    return sentence"
   ]
  },
  {
   "cell_type": "code",
   "execution_count": 10,
   "metadata": {
    "colab": {
     "base_uri": "https://localhost:8080/"
    },
    "id": "uta_2KqRfMJf",
    "outputId": "09e15098-1fe4-44e6-d0c1-dbce26484f4c"
   },
   "outputs": [
    {
     "name": "stdout",
     "output_type": "stream",
     "text": [
      "Antes:\n",
      "\n",
      "\n",
      "Produto I recently sent a letter to this company asking for them to stop contacting me in regards to whatever it is that they keep calling me about because I have no idea what it pertains to.\n",
      "Reclamação Debt collection\n",
      "\n",
      "Depois:\n",
      "\n",
      "\n",
      "Produto recently sent letter company asking stop contacting regards whatever keep calling idea pertains\n",
      "Reclamação Debt collection\n",
      "\n"
     ]
    }
   ],
   "source": [
    "# Exemplo de dado sem tratamento\n",
    "print(\"Antes:\\n\\n\")\n",
    "print(\"Produto\",df[['Consumer complaint narrative', 'Product']].values[100][0])\n",
    "print(\"Reclamação\", df[['Consumer complaint narrative', 'Product']].values[100][1], end=\"\\n\\n\")\n",
    "\n",
    "# Aplicando funcao de limpeza de string sobre a coluna textual\n",
    "df['Consumer complaint narrative'] = df['Consumer complaint narrative'].apply(sanitazeText)\n",
    "df['Consumer complaint narrative'] = df['Consumer complaint narrative'].str.replace('\\d+', '')\n",
    "\n",
    "# Exemplo de dado apos tratamento\n",
    "print(\"Depois:\\n\\n\")\n",
    "print(\"Produto: \",df[['Consumer complaint narrative', 'Product']].values[100][0])\n",
    "print(\"Reclamação: \", df[['Consumer complaint narrative', 'Product']].values[100][1],end=\"\\n\\n\")"
   ]
  },
  {
   "cell_type": "markdown",
   "metadata": {
    "id": "Cyg6yjyPb2ZO"
   },
   "source": [
    "### Embeding"
   ]
  },
  {
   "cell_type": "code",
   "execution_count": 11,
   "metadata": {
    "colab": {
     "base_uri": "https://localhost:8080/"
    },
    "id": "5ThxNRhzfMJq",
    "outputId": "ff16bffc-5881-45da-8198-237f762d78b1"
   },
   "outputs": [
    {
     "name": "stdout",
     "output_type": "stream",
     "text": [
      "Numero de tokens distintos:  100705\n"
     ]
    }
   ],
   "source": [
    "# Tranformando palavras em Tokens\n",
    "tokenizer = Tokenizer(num_words=maxWords, filters='!\"#$%&()*+,-./:;<=>?@[\\]^_`{|}~', lower=True)\n",
    "tokenizer.fit_on_texts(df['Consumer complaint narrative'].values)\n",
    "word_index = tokenizer.word_index\n",
    "print('Numero de tokens distintos: ', len(word_index))"
   ]
  },
  {
   "cell_type": "markdown",
   "metadata": {
    "id": "sQGpVPNKTVrL"
   },
   "source": [
    "### Dividindo dados de treino e teste"
   ]
  },
  {
   "cell_type": "code",
   "execution_count": 12,
   "metadata": {
    "colab": {
     "base_uri": "https://localhost:8080/"
    },
    "id": "kLlWQdkkfMJs",
    "outputId": "d331bc1d-0107-40e7-fc91-a92e5e6c9da0"
   },
   "outputs": [
    {
     "name": "stdout",
     "output_type": "stream",
     "text": [
      "Dimensões do vetor de dados: (199678, 250)\n",
      "Dimensões do vetor de labels: (199678, 13)\n",
      "(179710, 250) (179710, 13)\n",
      "(19968, 250) (19968, 13)\n"
     ]
    }
   ],
   "source": [
    "# Seprando dados\n",
    "X = tokenizer.texts_to_sequences(df['Consumer complaint narrative'].values)\n",
    "X = pad_sequences(X, maxlen=maxSequence)\n",
    "\n",
    "# Seprando labels\n",
    "Y = pd.get_dummies(df['Product']).values\n",
    "numberClasses = len(set(df['Product']))\n",
    "\n",
    "# Separando dados de Treino e Teste\n",
    "X_train, X_test, Y_train, Y_test = train_test_split(X,Y, test_size = 0.30, random_state = 42)\n",
    "\n",
    "print('Dimensões do vetor de dados:', X.shape)\n",
    "print('Dimensões do vetor de labels:', Y.shape)\n",
    "print(X_train.shape,Y_train.shape)\n",
    "print(X_test.shape,Y_test.shape)"
   ]
  },
  {
   "cell_type": "markdown",
   "metadata": {
    "id": "WfDoJvf8TfIb"
   },
   "source": [
    "### Definindo estrutura do Modelo\n",
    "O modelo de predição possui 4 camadas:\n",
    "* **Embedding**: camada de entrada que tem por objetivo transformar inteiros positivos em vetores densos, tendo máximo 50 mil palavras para os vocabulários e 250 para dimensão dos dados. Entrada: tensor 2d; Saída: tensor 3d\n",
    "* **SpatialDropout1D**: camada interna que promove a independência entre os mapas de características, realizando a remoção de forma aleatória de neurônios para evitar overfitting.  \n",
    "* **LSTM**: camada interna que responsável pela longa memoria de curto prazo, a qual permite que os estados anteriores sejam utilizados para prever os estados futuros. \n",
    "* **Dense**: camada de saída, onde é executada a função de ativação para cada elemento. Tem dimensão de saída igual ao número de classes de produtos\n",
    "\n"
   ]
  },
  {
   "cell_type": "code",
   "execution_count": 13,
   "metadata": {
    "colab": {
     "base_uri": "https://localhost:8080/"
    },
    "id": "HDxARWZ7fMKB",
    "outputId": "4dfb34ef-10c7-4b24-a35a-40ffae4adf14"
   },
   "outputs": [
    {
     "name": "stdout",
     "output_type": "stream",
     "text": [
      "Model: \"sequential\"\n",
      "_________________________________________________________________\n",
      "Layer (type)                 Output Shape              Param #   \n",
      "=================================================================\n",
      "embedding (Embedding)        (None, 250, 100)          5000000   \n",
      "_________________________________________________________________\n",
      "spatial_dropout1d (SpatialDr (None, 250, 100)          0         \n",
      "_________________________________________________________________\n",
      "lstm (LSTM)                  (None, 100)               80400     \n",
      "_________________________________________________________________\n",
      "dense (Dense)                (None, 13)                1313      \n",
      "=================================================================\n",
      "Total params: 5,081,713\n",
      "Trainable params: 5,081,713\n",
      "Non-trainable params: 0\n",
      "_________________________________________________________________\n",
      "None\n"
     ]
    }
   ],
   "source": [
    "# Definindo modelo usando Keras\n",
    "model = Sequential()\n",
    "model.add(Embedding(maxWords, dimensionEmbed, input_length=X.shape[1]))\n",
    "model.add(SpatialDropout1D(0.2))\n",
    "model.add(LSTM(100, dropout=0.2, recurrent_dropout=0.2))\n",
    "model.add(Dense(numberClasses, activation='softmax'))\n",
    "model.compile(loss='categorical_crossentropy', optimizer='adam', metrics=['accuracy'])\n",
    "\n",
    "# Sumarizando modelo\n",
    "print(model.summary())"
   ]
  },
  {
   "cell_type": "code",
   "execution_count": 14,
   "metadata": {
    "colab": {
     "base_uri": "https://localhost:8080/",
     "height": 533
    },
    "id": "FIO5U4LDc2br",
    "outputId": "e1151a1f-0f1d-4e17-929c-2d5e0a613654"
   },
   "outputs": [
    {
     "data": {
      "image/png": "[encoded data removed]",
      "text/plain": [
       "<IPython.core.display.Image object>"
      ]
     },
     "execution_count": 14,
     "metadata": {
      "tags": []
     },
     "output_type": "execute_result"
    }
   ],
   "source": [
    "# Plotando modelo\n",
    "plot_model(model, show_shapes=True, show_layer_names=True, to_file='model.png')\n",
    "Image('model.png')"
   ]
  },
  {
   "cell_type": "markdown",
   "metadata": {
    "id": "3LCtv7KlTkPG"
   },
   "source": [
    "### Treinando modelo"
   ]
  },
  {
   "cell_type": "code",
   "execution_count": 15,
   "metadata": {
    "colab": {
     "base_uri": "https://localhost:8080/"
    },
    "id": "GxdVo1BlfMKQ",
    "outputId": "b83b329e-7bc6-460c-b7c5-bdd09123dca0"
   },
   "outputs": [
    {
     "name": "stdout",
     "output_type": "stream",
     "text": [
      "Epoch 1/5\n",
      "2528/2528 [==============================] - 1859s 734ms/step - loss: 1.2792 - accuracy: 0.5937 - val_loss: 0.8927 - val_accuracy: 0.7398\n",
      "Epoch 2/5\n",
      "2528/2528 [==============================] - 1844s 729ms/step - loss: 0.7429 - accuracy: 0.7869 - val_loss: 0.5993 - val_accuracy: 0.8202\n",
      "Epoch 3/5\n",
      "2528/2528 [==============================] - 1856s 734ms/step - loss: 0.5485 - accuracy: 0.8362 - val_loss: 0.5291 - val_accuracy: 0.8373\n",
      "Epoch 4/5\n",
      "2528/2528 [==============================] - 1868s 739ms/step - loss: 0.4662 - accuracy: 0.8570 - val_loss: 0.4989 - val_accuracy: 0.8453\n",
      "Epoch 5/5\n",
      "2528/2528 [==============================] - 1876s 742ms/step - loss: 0.4103 - accuracy: 0.8727 - val_loss: 0.4937 - val_accuracy: 0.8439\n"
     ]
    }
   ],
   "source": [
    "# Realizando treino do modelo\n",
    "if bool_train is True:\n",
    "  historico = model.fit(X_train, Y_train, epochs=epochs, batch_size=batch_size,validation_split=0.1,callbacks=[EarlyStopping(monitor='val_loss', patience=3, min_delta=0.0001)])"
   ]
  },
  {
   "cell_type": "markdown",
   "metadata": {
    "id": "1EmRTGDvt9QJ"
   },
   "source": [
    "### Exportando modelo treinado"
   ]
  },
  {
   "cell_type": "code",
   "execution_count": 26,
   "metadata": {
    "colab": {
     "base_uri": "https://localhost:8080/"
    },
    "id": "QH0lyyVAt9dR",
    "outputId": "a688578e-86cd-4ff4-fc48-6d9d026b2e3e"
   },
   "outputs": [
    {
     "name": "stdout",
     "output_type": "stream",
     "text": [
      "INFO:tensorflow:Assets written to: drive/MyDrive/finalProject/model/assets\n"
     ]
    }
   ],
   "source": [
    "# Exportando modelo apenas quando o treino é realizado\n",
    "if bool_train is True:\n",
    "  model.save(os.path.join(homePath,'model/'))"
   ]
  },
  {
   "cell_type": "markdown",
   "metadata": {
    "id": "skrxTSWZ5SY6"
   },
   "source": [
    "### Carregando modelo ja treinado"
   ]
  },
  {
   "cell_type": "code",
   "execution_count": 11,
   "metadata": {
    "id": "kn1-Jeq35Rhe"
   },
   "outputs": [],
   "source": [
    "# Exportando modelo apenas quando o treino é realizado\n",
    "if bool_train is False:\n",
    "  model = keras.models.load_model(os.path.join(homePath,'model/'))"
   ]
  },
  {
   "cell_type": "markdown",
   "metadata": {
    "id": "iWIqb5SWw-Rh"
   },
   "source": [
    "# 3 - Analise Experimental\n",
    "<p>Após a realização do teste do modelo, obtém-se uma acurácia total de 82,4%. Abaixo são exibidos os gráficos de perda e acurácia do modelo ao longo das 5 épocas, além de uma matriz de confusão para a predição de cada classe. \n",
    "</p>\n",
    "<p>Pode-se observar o aumento da acurácia e a redução da perda com o aumento do número de épocas, havendo uma leve estabilização após a 4 época durante o teste</p>"
   ]
  },
  {
   "cell_type": "code",
   "execution_count": 16,
   "metadata": {
    "colab": {
     "base_uri": "https://localhost:8080/"
    },
    "id": "0eC6G0d3fMKY",
    "outputId": "be23a5b8-34e6-40af-dfb7-c05f5ccf602e"
   },
   "outputs": [
    {
     "name": "stdout",
     "output_type": "stream",
     "text": [
      "624/624 [==============================] - 41s 66ms/step - loss: 0.5105 - accuracy: 0.8420\n",
      "Conjunto de teste\n",
      " Perda: 0.510\n",
      "Acuracia: 0.842\n"
     ]
    }
   ],
   "source": [
    "# Calculando acuracia do modelo\n",
    "acuracia = model.evaluate(X_test,Y_test)\n",
    "print('Conjunto de teste\\n Perda: {:0.3f}\\nAcuracia: {:0.3f}'.format(acuracia[0],acuracia[1]))"
   ]
  },
  {
   "cell_type": "code",
   "execution_count": 28,
   "metadata": {
    "id": "hedbNWvHNu8j"
   },
   "outputs": [],
   "source": [
    "# Obtendo rotulos de predição para o teste\n",
    "Y_pred  = model.predict(X_test)"
   ]
  },
  {
   "cell_type": "markdown",
   "metadata": {
    "id": "2ka_4HiDYMDf"
   },
   "source": [
    "### Teste: Perda do modelo"
   ]
  },
  {
   "cell_type": "code",
   "execution_count": 18,
   "metadata": {
    "colab": {
     "base_uri": "https://localhost:8080/",
     "height": 632
    },
    "id": "L9AeehmpfMKa",
    "outputId": "f050d912-7b26-43f4-d7e9-5248638bfa6e"
   },
   "outputs": [
    {
     "data": {
      "image/png": "[encoded data removed]",
      "text/plain": [
       "<Figure size 864x720 with 1 Axes>"
      ]
     },
     "metadata": {
      "needs_background": "light",
      "tags": []
     },
     "output_type": "display_data"
    }
   ],
   "source": [
    "# Plotando perda do modelo\n",
    "plt.plot(range(1,epochs+1), historico.history['loss'], label='train')\n",
    "plt.plot(range(1,epochs+1), historico.history['val_loss'], label='test')\n",
    "plt.title('Perda do modelo por época')\n",
    "plt.xlabel(\"Épocas\")\n",
    "plt.ylabel(\"Perda\")\n",
    "plt.legend()\n",
    "plt.grid()\n",
    "plt.show();"
   ]
  },
  {
   "cell_type": "markdown",
   "metadata": {
    "id": "4YVu7IrbYRTC"
   },
   "source": [
    "### Teste: Acurácia do modelo"
   ]
  },
  {
   "cell_type": "code",
   "execution_count": 29,
   "metadata": {
    "colab": {
     "base_uri": "https://localhost:8080/",
     "height": 632
    },
    "id": "aS9YxC-oNst_",
    "outputId": "ad8f4ea6-8b20-48b0-8a95-82ce2af66728"
   },
   "outputs": [
    {
     "data": {
      "image/png": "[encoded data removed]",
      "text/plain": [
       "<Figure size 864x720 with 1 Axes>"
      ]
     },
     "metadata": {
      "needs_background": "light",
      "tags": []
     },
     "output_type": "display_data"
    }
   ],
   "source": [
    "# Plotando acuracia do modelo\n",
    "plt.plot(range(1,epochs+1), historico.history['accuracy'], label='train')\n",
    "plt.plot(range(1,epochs+1), historico.history['val_accuracy'], label='test')\n",
    "plt.title('Acurácia do modelo por época')\n",
    "plt.xlabel(\"Épocas\")\n",
    "plt.ylabel(\"Acurácia\")\n",
    "plt.legend()\n",
    "plt.grid()\n",
    "plt.show();"
   ]
  },
  {
   "cell_type": "markdown",
   "metadata": {
    "id": "P4-Rkn7GYWts"
   },
   "source": [
    "### Teste: Matriz de confusão"
   ]
  },
  {
   "cell_type": "code",
   "execution_count": 20,
   "metadata": {
    "id": "Wxntp6sqjQFD"
   },
   "outputs": [],
   "source": [
    "def plot_confusion_matrix(cm, classes,\n",
    "                        normalize=False,\n",
    "                        title='Confusion matrix',\n",
    "                        cmap=plt.cm.Reds):\n",
    "    \"\"\"\n",
    "    This function prints and plots the confusion matrix.\n",
    "    Normalization can be applied by setting `normalize=True`.\n",
    "    \"\"\"\n",
    "    if normalize:\n",
    "      cm = np.round(cm.astype('float') / cm.sum(axis=1)[:, np.newaxis], 2)\n",
    "\n",
    "    plt.imshow(cm, interpolation='nearest', cmap=cmap)\n",
    "    plt.title(title)\n",
    "    plt.colorbar()\n",
    "    tick_marks = np.arange(len(classes))\n",
    "    plt.xticks(tick_marks, classes, rotation=45)\n",
    "    plt.yticks(tick_marks, classes)\n",
    "\n",
    "\n",
    "\n",
    "    thresh = cm.max() / 2.\n",
    "    for i, j in itertools.product(range(cm.shape[0]), range(cm.shape[1])):\n",
    "        plt.text(j, i, cm[i, j],\n",
    "            horizontalalignment=\"center\",\n",
    "            color=\"white\" if cm[i, j] > thresh else \"black\")\n",
    "\n",
    "    plt.tight_layout()\n",
    "    plt.ylabel('True label')\n",
    "    plt.xlabel('Predicted label')\n",
    "    plt.show()"
   ]
  },
  {
   "cell_type": "code",
   "execution_count": 21,
   "metadata": {
    "id": "RyQUVyALYVsL"
   },
   "outputs": [],
   "source": [
    "matrix = confusion_matrix(Y_test.argmax(axis=1), Y_pred.argmax(axis=1))   "
   ]
  },
  {
   "cell_type": "code",
   "execution_count": 22,
   "metadata": {
    "colab": {
     "base_uri": "https://localhost:8080/",
     "height": 741
    },
    "id": "Ta5VHIURhjdu",
    "outputId": "a3b8f65c-9578-4e7e-9657-2fa36bd32fe4"
   },
   "outputs": [
    {
     "data": {
      "image/png": "[encoded data removed]",
      "text/plain": [
       "<Figure size 864x720 with 2 Axes>"
      ]
     },
     "metadata": {
      "needs_background": "light",
      "tags": []
     },
     "output_type": "display_data"
    }
   ],
   "source": [
    "cm_plot_labels = list(set(df['Product']))\n",
    "\n",
    "# Recortando label\n",
    "for i  in range(len(cm_plot_labels)):\n",
    "  cm_plot_labels[i] = cm_plot_labels[i][:15]\n",
    "\n",
    "plot_confusion_matrix(cm=matrix, classes=cm_plot_labels, title='Confusion Matrix', normalize=True)"
   ]
  },
  {
   "cell_type": "code",
   "execution_count": 34,
   "metadata": {
    "colab": {
     "base_uri": "https://localhost:8080/"
    },
    "id": "Dg6lWgREQtCr",
    "outputId": "506793de-f551-4c06-b686-d5069977c6fc"
   },
   "outputs": [
    {
     "name": "stdout",
     "output_type": "stream",
     "text": [
      "                                                                              precision    recall  f1-score   support\n",
      "\n",
      "                          Money transfer, virtual currency, or money service       0.73      0.79      0.76      1439\n",
      "                                                                    Mortgage       0.14      0.00      0.01       229\n",
      "                                                               Consumer Loan       0.73      0.54      0.62       941\n",
      "                                                             Money transfers       0.81      0.82      0.81      2178\n",
      "Credit reporting, credit repair services, or other personal consumer reports       0.87      0.88      0.87      4624\n",
      "                                                       Vehicle loan or lease       0.83      0.89      0.86      4852\n",
      "                                                                Prepaid card       0.70      0.21      0.32        67\n",
      "                                                             Debt collection       0.68      0.50      0.57       143\n",
      "                                                 Checking or savings account       0.93      0.95      0.94      3721\n",
      "                                                     Bank account or service       0.56      0.51      0.53       243\n",
      "                                                 Credit card or prepaid card       0.74      0.73      0.73       140\n",
      "                                   Payday loan, title loan, or personal loan       0.92      0.86      0.89      1304\n",
      "                                                                Student loan       0.00      0.00      0.00        87\n",
      "\n",
      "                                                                    accuracy                           0.84     19968\n",
      "                                                                   macro avg       0.66      0.59      0.61     19968\n",
      "                                                                weighted avg       0.83      0.84      0.83     19968\n",
      "\n"
     ]
    },
    {
     "name": "stderr",
     "output_type": "stream",
     "text": [
      "/usr/local/lib/python3.7/dist-packages/sklearn/metrics/_classification.py:1272: UndefinedMetricWarning:\n",
      "\n",
      "Precision and F-score are ill-defined and being set to 0.0 in labels with no predicted samples. Use `zero_division` parameter to control this behavior.\n",
      "\n"
     ]
    }
   ],
   "source": [
    "print(classification_report(Y_test.argmax(axis=1), Y_pred.argmax(axis=1), target_names= set(df['Product'])))"
   ]
  },
  {
   "cell_type": "markdown",
   "metadata": {
    "id": "7ciREJHDfMKf"
   },
   "source": [
    "### Teste: predição de novas entradas"
   ]
  },
  {
   "cell_type": "code",
   "execution_count": 23,
   "metadata": {
    "colab": {
     "base_uri": "https://localhost:8080/"
    },
    "id": "SJ74O7GlfMKg",
    "outputId": "2435325e-f875-4dc5-9ae3-0b8bc1cafb9b"
   },
   "outputs": [
    {
     "name": "stdout",
     "output_type": "stream",
     "text": [
      "[[1.5224975e-01 6.3746148e-03 1.6479795e-03 7.4704057e-01 8.0591135e-02\n",
      "  6.6144117e-03 5.3735898e-04 2.1914295e-04 2.4906443e-03 8.2800398e-05\n",
      "  1.8449350e-03 2.6234894e-04 4.4328946e-05]] Credit card or prepaid card\n",
      "[[1.5224975e-01 6.3746148e-03 1.6479795e-03 7.4704057e-01 8.0591135e-02\n",
      "  6.6144117e-03 5.3735898e-04 2.1914295e-04 2.4906443e-03 8.2800398e-05\n",
      "  1.8449350e-03 2.6234894e-04 4.4328946e-05]] Credit card or prepaid card\n"
     ]
    }
   ],
   "source": [
    "novaSequencia = ['The following Bank of America Visa credit card account do not belong to me : XXXX.']\n",
    "seq = tokenizer.texts_to_sequences(novaSequencia)\n",
    "padded = pad_sequences(seq, maxlen=maxSequence)\n",
    "pred = model.predict(padded)\n",
    "labels = ['Credit reporting, credit repair services, or other personal consumer reports', 'Debt collection', 'Mortgage', 'Credit card or prepaid card', 'Student loan', 'Bank account or service', 'Checking or savings account', 'Consumer Loan', 'Payday loan, title loan, or personal loan', 'Vehicle loan or lease', 'Money transfer, virtual currency, or money service', 'Money transfers', 'Prepaid card']\n",
    "print(pred, labels[np.argmax(pred)])"
   ]
  },
  {
   "cell_type": "markdown",
   "metadata": {
    "id": "py6qZE2XxBGo"
   },
   "source": [
    "# 4 - Conclusão\n",
    "<p>Fora analisado desemprenho do modelo LSTM para a tarefa de classificação multi-classes, avaliando parâmetros de regularização e acurácia final, que fica em 84,2%  Pelos testes realizados com a variação das 5 épocas, fica claro a limitação quando a este tipo de ajuste, que não trousse grande diferenças nas duas últimas interações.</p>"
   ]
  }
 ],
 "metadata": {
  "colab": {
   "collapsed_sections": [],
   "name": "tpFinal.ipynb",
   "provenance": []
  },
  "kernelspec": {
   "display_name": "Python 3",
   "language": "python",
   "name": "python3"
  },
  "language_info": {
   "codemirror_mode": {
    "name": "ipython",
    "version": 3
   },
   "file_extension": ".py",
   "mimetype": "text/x-python",
   "name": "python",
   "nbconvert_exporter": "python",
   "pygments_lexer": "ipython3",
   "version": "3.7.1"
  }
 },
 "nbformat": 4,
 "nbformat_minor": 1
}
